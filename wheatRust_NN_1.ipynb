{
 "cells": [
  {
   "cell_type": "code",
   "execution_count": 91,
   "metadata": {
    "collapsed": true
   },
   "outputs": [],
   "source": [
    "# librerias\n",
    "import pandas as pd\n",
    "%matplotlib inline"
   ]
  },
  {
   "cell_type": "code",
   "execution_count": 92,
   "metadata": {},
   "outputs": [],
   "source": [
    "# leer csv\n",
    "data = pd.read_csv('resultados/db_join_wrf_tpro_10_25_tmid_10_20.csv')"
   ]
  },
  {
   "cell_type": "code",
   "execution_count": 93,
   "metadata": {},
   "outputs": [
    {
     "data": {
      "text/html": [
       "<div>\n",
       "<style>\n",
       "    .dataframe thead tr:only-child th {\n",
       "        text-align: right;\n",
       "    }\n",
       "\n",
       "    .dataframe thead th {\n",
       "        text-align: left;\n",
       "    }\n",
       "\n",
       "    .dataframe tbody tr th {\n",
       "        vertical-align: top;\n",
       "    }\n",
       "</style>\n",
       "<table border=\"1\" class=\"dataframe\">\n",
       "  <thead>\n",
       "    <tr style=\"text-align: right;\">\n",
       "      <th></th>\n",
       "      <th>lat</th>\n",
       "      <th>long</th>\n",
       "      <th>problem</th>\n",
       "      <th>incidencia</th>\n",
       "      <th>anio</th>\n",
       "      <th>mes</th>\n",
       "      <th>dia</th>\n",
       "      <th>ciclo</th>\n",
       "      <th>prec</th>\n",
       "      <th>tmax</th>\n",
       "      <th>...</th>\n",
       "      <th>tpro</th>\n",
       "      <th>velv</th>\n",
       "      <th>dirv</th>\n",
       "      <th>humr</th>\n",
       "      <th>dpoint</th>\n",
       "      <th>tmidnight</th>\n",
       "      <th>condiciones</th>\n",
       "      <th>tipo</th>\n",
       "      <th>indicePresencia</th>\n",
       "      <th>porcentajePresencia</th>\n",
       "    </tr>\n",
       "  </thead>\n",
       "  <tbody>\n",
       "    <tr>\n",
       "      <th>0</th>\n",
       "      <td>27.344400</td>\n",
       "      <td>-109.934357</td>\n",
       "      <td>Roya Lineal</td>\n",
       "      <td>0.01</td>\n",
       "      <td>2014</td>\n",
       "      <td>3</td>\n",
       "      <td>17</td>\n",
       "      <td>Ciclo 2013-2014</td>\n",
       "      <td>0.0</td>\n",
       "      <td>28.873</td>\n",
       "      <td>...</td>\n",
       "      <td>18.8640</td>\n",
       "      <td>6.24163</td>\n",
       "      <td>309.96953</td>\n",
       "      <td>30.4142</td>\n",
       "      <td>1.033681</td>\n",
       "      <td>18.136</td>\n",
       "      <td>0</td>\n",
       "      <td>N</td>\n",
       "      <td>3.0</td>\n",
       "      <td>0.75</td>\n",
       "    </tr>\n",
       "    <tr>\n",
       "      <th>1</th>\n",
       "      <td>27.263716</td>\n",
       "      <td>-109.847138</td>\n",
       "      <td>Roya Lineal</td>\n",
       "      <td>0.01</td>\n",
       "      <td>2014</td>\n",
       "      <td>2</td>\n",
       "      <td>20</td>\n",
       "      <td>Ciclo 2013-2014</td>\n",
       "      <td>0.0</td>\n",
       "      <td>27.786</td>\n",
       "      <td>...</td>\n",
       "      <td>20.0520</td>\n",
       "      <td>2.30557</td>\n",
       "      <td>37.89133</td>\n",
       "      <td>46.7154</td>\n",
       "      <td>8.250035</td>\n",
       "      <td>13.019</td>\n",
       "      <td>1</td>\n",
       "      <td>N</td>\n",
       "      <td>4.0</td>\n",
       "      <td>1.00</td>\n",
       "    </tr>\n",
       "    <tr>\n",
       "      <th>2</th>\n",
       "      <td>27.225971</td>\n",
       "      <td>-109.855972</td>\n",
       "      <td>Roya Lineal</td>\n",
       "      <td>0.01</td>\n",
       "      <td>2014</td>\n",
       "      <td>2</td>\n",
       "      <td>27</td>\n",
       "      <td>Ciclo 2013-2014</td>\n",
       "      <td>0.0</td>\n",
       "      <td>27.727</td>\n",
       "      <td>...</td>\n",
       "      <td>19.0616</td>\n",
       "      <td>6.98013</td>\n",
       "      <td>312.18672</td>\n",
       "      <td>59.7521</td>\n",
       "      <td>11.009703</td>\n",
       "      <td>14.826</td>\n",
       "      <td>1</td>\n",
       "      <td>N</td>\n",
       "      <td>4.0</td>\n",
       "      <td>1.00</td>\n",
       "    </tr>\n",
       "    <tr>\n",
       "      <th>3</th>\n",
       "      <td>27.198668</td>\n",
       "      <td>-109.890648</td>\n",
       "      <td>Roya Lineal</td>\n",
       "      <td>0.04</td>\n",
       "      <td>2014</td>\n",
       "      <td>2</td>\n",
       "      <td>4</td>\n",
       "      <td>Ciclo 2013-2014</td>\n",
       "      <td>0.0</td>\n",
       "      <td>21.319</td>\n",
       "      <td>...</td>\n",
       "      <td>14.0539</td>\n",
       "      <td>5.99438</td>\n",
       "      <td>340.75799</td>\n",
       "      <td>62.9675</td>\n",
       "      <td>7.051250</td>\n",
       "      <td>13.144</td>\n",
       "      <td>1</td>\n",
       "      <td>N</td>\n",
       "      <td>2.0</td>\n",
       "      <td>0.50</td>\n",
       "    </tr>\n",
       "    <tr>\n",
       "      <th>4</th>\n",
       "      <td>27.474041</td>\n",
       "      <td>-110.116669</td>\n",
       "      <td>Roya Lineal</td>\n",
       "      <td>0.01</td>\n",
       "      <td>2014</td>\n",
       "      <td>3</td>\n",
       "      <td>4</td>\n",
       "      <td>Ciclo 2013-2014</td>\n",
       "      <td>0.0</td>\n",
       "      <td>27.244</td>\n",
       "      <td>...</td>\n",
       "      <td>18.7576</td>\n",
       "      <td>6.22889</td>\n",
       "      <td>273.46531</td>\n",
       "      <td>63.5817</td>\n",
       "      <td>11.664811</td>\n",
       "      <td>14.686</td>\n",
       "      <td>1</td>\n",
       "      <td>N</td>\n",
       "      <td>4.0</td>\n",
       "      <td>1.00</td>\n",
       "    </tr>\n",
       "  </tbody>\n",
       "</table>\n",
       "<p>5 rows × 21 columns</p>\n",
       "</div>"
      ],
      "text/plain": [
       "         lat        long      problem  incidencia  anio  mes  dia  \\\n",
       "0  27.344400 -109.934357  Roya Lineal        0.01  2014    3   17   \n",
       "1  27.263716 -109.847138  Roya Lineal        0.01  2014    2   20   \n",
       "2  27.225971 -109.855972  Roya Lineal        0.01  2014    2   27   \n",
       "3  27.198668 -109.890648  Roya Lineal        0.04  2014    2    4   \n",
       "4  27.474041 -110.116669  Roya Lineal        0.01  2014    3    4   \n",
       "\n",
       "             ciclo  prec    tmax         ...              tpro     velv  \\\n",
       "0  Ciclo 2013-2014   0.0  28.873         ...           18.8640  6.24163   \n",
       "1  Ciclo 2013-2014   0.0  27.786         ...           20.0520  2.30557   \n",
       "2  Ciclo 2013-2014   0.0  27.727         ...           19.0616  6.98013   \n",
       "3  Ciclo 2013-2014   0.0  21.319         ...           14.0539  5.99438   \n",
       "4  Ciclo 2013-2014   0.0  27.244         ...           18.7576  6.22889   \n",
       "\n",
       "        dirv     humr     dpoint  tmidnight  condiciones  tipo  \\\n",
       "0  309.96953  30.4142   1.033681     18.136            0     N   \n",
       "1   37.89133  46.7154   8.250035     13.019            1     N   \n",
       "2  312.18672  59.7521  11.009703     14.826            1     N   \n",
       "3  340.75799  62.9675   7.051250     13.144            1     N   \n",
       "4  273.46531  63.5817  11.664811     14.686            1     N   \n",
       "\n",
       "  indicePresencia  porcentajePresencia  \n",
       "0             3.0                 0.75  \n",
       "1             4.0                 1.00  \n",
       "2             4.0                 1.00  \n",
       "3             2.0                 0.50  \n",
       "4             4.0                 1.00  \n",
       "\n",
       "[5 rows x 21 columns]"
      ]
     },
     "execution_count": 93,
     "metadata": {},
     "output_type": "execute_result"
    }
   ],
   "source": [
    "# verificar la integridad de la información\n",
    "data.head()"
   ]
  },
  {
   "cell_type": "code",
   "execution_count": 97,
   "metadata": {},
   "outputs": [
    {
     "name": "stdout",
     "output_type": "stream",
     "text": [
      "<class 'pandas.core.frame.DataFrame'>\n",
      "RangeIndex: 743 entries, 0 to 742\n",
      "Data columns (total 21 columns):\n",
      "lat                    743 non-null float64\n",
      "long                   743 non-null float64\n",
      "problem                743 non-null object\n",
      "incidencia             743 non-null float64\n",
      "anio                   743 non-null int64\n",
      "mes                    743 non-null int64\n",
      "dia                    743 non-null int64\n",
      "ciclo                  743 non-null object\n",
      "prec                   743 non-null float64\n",
      "tmax                   743 non-null float64\n",
      "tmin                   743 non-null float64\n",
      "tpro                   743 non-null float64\n",
      "velv                   743 non-null float64\n",
      "dirv                   743 non-null float64\n",
      "humr                   743 non-null float64\n",
      "dpoint                 743 non-null float64\n",
      "tmidnight              743 non-null float64\n",
      "condiciones            743 non-null int64\n",
      "tipo                   743 non-null object\n",
      "indicePresencia        743 non-null float64\n",
      "porcentajePresencia    743 non-null float64\n",
      "dtypes: float64(14), int64(4), object(3)\n",
      "memory usage: 122.0+ KB\n"
     ]
    }
   ],
   "source": [
    "# información del dataFrame\n",
    "data.info()"
   ]
  },
  {
   "cell_type": "code",
   "execution_count": 98,
   "metadata": {},
   "outputs": [
    {
     "data": {
      "text/plain": [
       "Index(['lat', 'long', 'problem', 'incidencia', 'anio', 'mes', 'dia', 'ciclo',\n",
       "       'prec', 'tmax', 'tmin', 'tpro', 'velv', 'dirv', 'humr', 'dpoint',\n",
       "       'tmidnight', 'condiciones', 'tipo', 'indicePresencia',\n",
       "       'porcentajePresencia'],\n",
       "      dtype='object')"
      ]
     },
     "execution_count": 98,
     "metadata": {},
     "output_type": "execute_result"
    }
   ],
   "source": [
    "# columnas del dataFrame\n",
    "data.columns"
   ]
  },
  {
   "cell_type": "code",
   "execution_count": 99,
   "metadata": {},
   "outputs": [],
   "source": [
    "# delimitación de la información\n",
    "data = data[['problem','prec', 'tmax', 'tmin', 'tpro', 'velv', 'dirv', 'humr', 'dpoint', 'tmidnight', 'indicePresencia']]"
   ]
  },
  {
   "cell_type": "code",
   "execution_count": 100,
   "metadata": {},
   "outputs": [
    {
     "data": {
      "text/html": [
       "<div>\n",
       "<style>\n",
       "    .dataframe thead tr:only-child th {\n",
       "        text-align: right;\n",
       "    }\n",
       "\n",
       "    .dataframe thead th {\n",
       "        text-align: left;\n",
       "    }\n",
       "\n",
       "    .dataframe tbody tr th {\n",
       "        vertical-align: top;\n",
       "    }\n",
       "</style>\n",
       "<table border=\"1\" class=\"dataframe\">\n",
       "  <thead>\n",
       "    <tr style=\"text-align: right;\">\n",
       "      <th></th>\n",
       "      <th>problem</th>\n",
       "      <th>prec</th>\n",
       "      <th>tmax</th>\n",
       "      <th>tmin</th>\n",
       "      <th>tpro</th>\n",
       "      <th>velv</th>\n",
       "      <th>dirv</th>\n",
       "      <th>humr</th>\n",
       "      <th>dpoint</th>\n",
       "      <th>tmidnight</th>\n",
       "      <th>indicePresencia</th>\n",
       "    </tr>\n",
       "  </thead>\n",
       "  <tbody>\n",
       "    <tr>\n",
       "      <th>0</th>\n",
       "      <td>Roya Lineal</td>\n",
       "      <td>0.0</td>\n",
       "      <td>28.873</td>\n",
       "      <td>10.737</td>\n",
       "      <td>18.8640</td>\n",
       "      <td>6.24163</td>\n",
       "      <td>309.96953</td>\n",
       "      <td>30.4142</td>\n",
       "      <td>1.033681</td>\n",
       "      <td>18.136</td>\n",
       "      <td>3.0</td>\n",
       "    </tr>\n",
       "    <tr>\n",
       "      <th>1</th>\n",
       "      <td>Roya Lineal</td>\n",
       "      <td>0.0</td>\n",
       "      <td>27.786</td>\n",
       "      <td>14.767</td>\n",
       "      <td>20.0520</td>\n",
       "      <td>2.30557</td>\n",
       "      <td>37.89133</td>\n",
       "      <td>46.7154</td>\n",
       "      <td>8.250035</td>\n",
       "      <td>13.019</td>\n",
       "      <td>4.0</td>\n",
       "    </tr>\n",
       "    <tr>\n",
       "      <th>2</th>\n",
       "      <td>Roya Lineal</td>\n",
       "      <td>0.0</td>\n",
       "      <td>27.727</td>\n",
       "      <td>12.901</td>\n",
       "      <td>19.0616</td>\n",
       "      <td>6.98013</td>\n",
       "      <td>312.18672</td>\n",
       "      <td>59.7521</td>\n",
       "      <td>11.009703</td>\n",
       "      <td>14.826</td>\n",
       "      <td>4.0</td>\n",
       "    </tr>\n",
       "    <tr>\n",
       "      <th>3</th>\n",
       "      <td>Roya Lineal</td>\n",
       "      <td>0.0</td>\n",
       "      <td>21.319</td>\n",
       "      <td>8.175</td>\n",
       "      <td>14.0539</td>\n",
       "      <td>5.99438</td>\n",
       "      <td>340.75799</td>\n",
       "      <td>62.9675</td>\n",
       "      <td>7.051250</td>\n",
       "      <td>13.144</td>\n",
       "      <td>2.0</td>\n",
       "    </tr>\n",
       "    <tr>\n",
       "      <th>4</th>\n",
       "      <td>Roya Lineal</td>\n",
       "      <td>0.0</td>\n",
       "      <td>27.244</td>\n",
       "      <td>12.558</td>\n",
       "      <td>18.7576</td>\n",
       "      <td>6.22889</td>\n",
       "      <td>273.46531</td>\n",
       "      <td>63.5817</td>\n",
       "      <td>11.664811</td>\n",
       "      <td>14.686</td>\n",
       "      <td>4.0</td>\n",
       "    </tr>\n",
       "  </tbody>\n",
       "</table>\n",
       "</div>"
      ],
      "text/plain": [
       "       problem  prec    tmax    tmin     tpro     velv       dirv     humr  \\\n",
       "0  Roya Lineal   0.0  28.873  10.737  18.8640  6.24163  309.96953  30.4142   \n",
       "1  Roya Lineal   0.0  27.786  14.767  20.0520  2.30557   37.89133  46.7154   \n",
       "2  Roya Lineal   0.0  27.727  12.901  19.0616  6.98013  312.18672  59.7521   \n",
       "3  Roya Lineal   0.0  21.319   8.175  14.0539  5.99438  340.75799  62.9675   \n",
       "4  Roya Lineal   0.0  27.244  12.558  18.7576  6.22889  273.46531  63.5817   \n",
       "\n",
       "      dpoint  tmidnight  indicePresencia  \n",
       "0   1.033681     18.136              3.0  \n",
       "1   8.250035     13.019              4.0  \n",
       "2  11.009703     14.826              4.0  \n",
       "3   7.051250     13.144              2.0  \n",
       "4  11.664811     14.686              4.0  "
      ]
     },
     "execution_count": 100,
     "metadata": {},
     "output_type": "execute_result"
    }
   ],
   "source": [
    "# integridad de la información\n",
    "data.head()"
   ]
  },
  {
   "cell_type": "code",
   "execution_count": 101,
   "metadata": {},
   "outputs": [],
   "source": [
    "# preparar los datos para su procesamiento\n",
    "X = data.drop('problem', axis=1)\n",
    "y = data['problem']"
   ]
  },
  {
   "cell_type": "code",
   "execution_count": 102,
   "metadata": {},
   "outputs": [],
   "source": [
    "# Train test Split\n",
    "# importar función\n",
    "from sklearn.model_selection import train_test_split"
   ]
  },
  {
   "cell_type": "code",
   "execution_count": 103,
   "metadata": {
    "collapsed": true
   },
   "outputs": [],
   "source": [
    "# generar la información para su procesamiento\n",
    "X_train, X_test, y_train, y_test = train_test_split(X,y)"
   ]
  },
  {
   "cell_type": "code",
   "execution_count": 104,
   "metadata": {},
   "outputs": [
    {
     "data": {
      "text/plain": [
       "StandardScaler(copy=True, with_mean=True, with_std=True)"
      ]
     },
     "execution_count": 104,
     "metadata": {},
     "output_type": "execute_result"
    }
   ],
   "source": [
    "from sklearn.preprocessing import StandardScaler\n",
    "scaler = StandardScaler()\n",
    "# ajustar la información de entrenamiento\n",
    "scaler.fit(X_train)"
   ]
  },
  {
   "cell_type": "code",
   "execution_count": 105,
   "metadata": {
    "collapsed": true
   },
   "outputs": [],
   "source": [
    "# aplicar la transformación a toda la información\n",
    "X_train = scaler.transform(X_train)\n",
    "X_test = scaler.transform(X_test)"
   ]
  },
  {
   "cell_type": "code",
   "execution_count": 106,
   "metadata": {
    "collapsed": true
   },
   "outputs": [],
   "source": [
    "# entrenamiendo del modelo\n",
    "# importar librería\n",
    "from sklearn.neural_network import MLPClassifier"
   ]
  },
  {
   "cell_type": "code",
   "execution_count": 143,
   "metadata": {},
   "outputs": [],
   "source": [
    "# crear la instancía que nos permitira definir el número de capaz y el máximo número de iteraciones\n",
    "mlp = MLPClassifier(hidden_layer_sizes=(10,10,10), max_iter=1000)"
   ]
  },
  {
   "cell_type": "code",
   "execution_count": 144,
   "metadata": {},
   "outputs": [
    {
     "data": {
      "text/plain": [
       "MLPClassifier(activation='relu', alpha=0.0001, batch_size='auto', beta_1=0.9,\n",
       "       beta_2=0.999, early_stopping=False, epsilon=1e-08,\n",
       "       hidden_layer_sizes=(10, 10, 10), learning_rate='constant',\n",
       "       learning_rate_init=0.001, max_iter=1000, momentum=0.9,\n",
       "       nesterovs_momentum=True, power_t=0.5, random_state=None,\n",
       "       shuffle=True, solver='adam', tol=0.0001, validation_fraction=0.1,\n",
       "       verbose=False, warm_start=False)"
      ]
     },
     "execution_count": 144,
     "metadata": {},
     "output_type": "execute_result"
    }
   ],
   "source": [
    "# ahora que tenemos el modelo generardo, ya podemos ajustar la información al modelo\n",
    "mlp.fit(X_train,y_train)"
   ]
  },
  {
   "cell_type": "code",
   "execution_count": 145,
   "metadata": {},
   "outputs": [],
   "source": [
    "predictions = mlp.predict(X_test)"
   ]
  },
  {
   "cell_type": "code",
   "execution_count": 146,
   "metadata": {},
   "outputs": [],
   "source": [
    "# importar los métodos de reporte\n",
    "from sklearn.metrics import classification_report,confusion_matrix"
   ]
  },
  {
   "cell_type": "code",
   "execution_count": 147,
   "metadata": {},
   "outputs": [
    {
     "name": "stdout",
     "output_type": "stream",
     "text": [
      "[[153   7]\n",
      " [ 13  13]]\n"
     ]
    }
   ],
   "source": [
    "print(confusion_matrix(y_test,predictions))"
   ]
  },
  {
   "cell_type": "code",
   "execution_count": 148,
   "metadata": {},
   "outputs": [
    {
     "name": "stdout",
     "output_type": "stream",
     "text": [
      "                 precision    recall  f1-score   support\n",
      "\n",
      "    Roya Lineal       0.92      0.96      0.94       160\n",
      "Roya de la Hoja       0.65      0.50      0.57        26\n",
      "\n",
      "    avg / total       0.88      0.89      0.89       186\n",
      "\n"
     ]
    }
   ],
   "source": [
    "print(classification_report(y_test,predictions))"
   ]
  },
  {
   "cell_type": "code",
   "execution_count": null,
   "metadata": {
    "collapsed": true
   },
   "outputs": [],
   "source": []
  }
 ],
 "metadata": {
  "kernelspec": {
   "display_name": "Python 3",
   "language": "python",
   "name": "python3"
  },
  "language_info": {
   "codemirror_mode": {
    "name": "ipython",
    "version": 3
   },
   "file_extension": ".py",
   "mimetype": "text/x-python",
   "name": "python",
   "nbconvert_exporter": "python",
   "pygments_lexer": "ipython3",
   "version": "3.6.2"
  }
 },
 "nbformat": 4,
 "nbformat_minor": 2
}
